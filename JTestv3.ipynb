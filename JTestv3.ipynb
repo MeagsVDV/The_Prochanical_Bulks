{
 "cells": [
  {
   "cell_type": "code",
   "execution_count": 1,
   "metadata": {},
   "outputs": [],
   "source": [
    "from DuctClass import Duct\n",
    "from BOQClass import BOQ\n",
    "from DataClass import Data\n",
    "\n",
    "BoQs = []\n",
    "TotalBoQ = [0,0,0,0,0]\n",
    "TotalCost = [0,0,0,0,0]\n",
    "a = Data()\n",
    "filename = ['Duct Schedule Medium Pressure Insulated Rect_UPDATED.csv','Duct Fitting Schedule Low Pressure Insulated Cladded Rect_UPDATED.csv',]\n",
    "\n",
    "for j in range(0,len(filename)):\n",
    "    BoQs.append(BOQ(0,0,0,0,0))\n",
    "    dimensions = a.getdimensions(filename[j])\n",
    "    areas = a.getarea(filename[j])\n",
    "    counts = a.getcount(filename[j])\n",
    "    ducts = []\n",
    "\n",
    "    for i in range(0,len(areas)-1):\n",
    "        ducts.append(Duct(areas[i],dimensions.iat[i,0], dimensions.iat[i,0], counts[i]))\n",
    "\n",
    "        BoQs[j].add_to_cat(ducts[i].categorize(),ducts[i].returnarea())\n",
    "\n",
    "for l in range(0,len(BoQs)):\n",
    "    for k in range(0,5):\n",
    "        TotalBoQ[k] += BoQs[l].returncat()[k]\n",
    "        TotalCost[k] += BoQs[l].returncost()[k]\n",
    "\n",
    "a.generateoutput(TotalBoQ,TotalCost)"
   ]
  }
 ],
 "metadata": {
  "interpreter": {
   "hash": "05099b2b094148bdad56be3c0b669603ab5c9985718aae4b7e9b012ccdc97804"
  },
  "kernelspec": {
   "display_name": "Python 3.9.7 ('base')",
   "language": "python",
   "name": "python3"
  },
  "language_info": {
   "codemirror_mode": {
    "name": "ipython",
    "version": 3
   },
   "file_extension": ".py",
   "mimetype": "text/x-python",
   "name": "python",
   "nbconvert_exporter": "python",
   "pygments_lexer": "ipython3",
   "version": "3.9.7"
  },
  "orig_nbformat": 4
 },
 "nbformat": 4,
 "nbformat_minor": 2
}
